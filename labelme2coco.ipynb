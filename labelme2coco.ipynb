{
  "nbformat": 4,
  "nbformat_minor": 0,
  "metadata": {
    "colab": {
      "name": "seedings_dataset2coco.ipynb",
      "provenance": [],
      "authorship_tag": "ABX9TyMmz/j6y3rKoNoU2GfZmsgR",
      "include_colab_link": true
    },
    "kernelspec": {
      "name": "python3",
      "display_name": "Python 3"
    },
    "language_info": {
      "name": "python"
    }
  },
  "cells": [
    {
      "cell_type": "markdown",
      "metadata": {
        "id": "view-in-github",
        "colab_type": "text"
      },
      "source": [
        "<a href=\"https://colab.research.google.com/github/niobeus/seedings/blob/main/labelme2coco.ipynb\" target=\"_parent\"><img src=\"https://colab.research.google.com/assets/colab-badge.svg\" alt=\"Open In Colab\"/></a>"
      ]
    },
    {
      "cell_type": "code",
      "metadata": {
        "colab": {
          "base_uri": "https://localhost:8080/"
        },
        "id": "FVEK77bA-BGq",
        "outputId": "86a29d8f-ae0e-49a1-801d-7838c8271a41"
      },
      "source": [
        "from google.colab import drive\n",
        "drive.mount('/content/drive')\n",
        "path = '/content/drive/MyDrive/'"
      ],
      "execution_count": null,
      "outputs": [
        {
          "output_type": "stream",
          "text": [
            "Mounted at /content/drive\n"
          ],
          "name": "stdout"
        }
      ]
    },
    {
      "cell_type": "code",
      "metadata": {
        "colab": {
          "base_uri": "https://localhost:8080/"
        },
        "id": "7duM2C-X_BNl",
        "outputId": "c70d36a2-a2b1-4b3e-ad0e-eb5a3379575b"
      },
      "source": [
        "!pip install labelme2coco"
      ],
      "execution_count": null,
      "outputs": [
        {
          "output_type": "stream",
          "text": [
            "Collecting labelme2coco\n",
            "  Downloading https://files.pythonhosted.org/packages/36/bf/a0ae23452fccb2215cecdff4df85fd29af4adfbd14e1bcb78379efedd968/labelme2coco-0.1.2-py3-none-any.whl\n",
            "Requirement already satisfied: jsonschema>=2.6.0 in /usr/local/lib/python3.7/dist-packages (from labelme2coco) (2.6.0)\n",
            "Requirement already satisfied: numpy>=1.15.1 in /usr/local/lib/python3.7/dist-packages (from labelme2coco) (1.19.5)\n",
            "Requirement already satisfied: pillow>=4.3.0 in /usr/local/lib/python3.7/dist-packages (from labelme2coco) (7.1.2)\n",
            "Installing collected packages: labelme2coco\n",
            "Successfully installed labelme2coco-0.1.2\n"
          ],
          "name": "stdout"
        }
      ]
    },
    {
      "cell_type": "code",
      "metadata": {
        "id": "z10PGHWZ-KFP"
      },
      "source": [
        "import labelme2coco\n",
        "\n",
        "labelme_folder_train = path+'labelme/masks/train/'\n",
        "save_json_path_train = path+'labelme/masks_coco/train/annotation.json'\n",
        "labelme2coco.convert(labelme_folder_train, save_json_path_train)\n",
        "\n",
        "labelme_folder_test = path+'labelme/masks/test/'\n",
        "save_json_path_test = path+'labelme/masks_coco/test/annotation.json'\n",
        "labelme2coco.convert(labelme_folder_test, save_json_path_test)\n",
        "\n",
        "labelme_folder_val = path+'labelme/masks/val/'\n",
        "save_json_path_val = path+'labelme/masks_coco/val/annotation.json'\n",
        "labelme2coco.convert(labelme_folder_val, save_json_path_val)"
      ],
      "execution_count": null,
      "outputs": []
    }
  ]
}